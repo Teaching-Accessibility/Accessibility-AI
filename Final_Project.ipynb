{
  "nbformat": 4,
  "nbformat_minor": 0,
  "metadata": {
    "colab": {
      "name": "Final Project.ipynb",
      "provenance": [],
      "collapsed_sections": []
    },
    "kernelspec": {
      "name": "python3",
      "display_name": "Python 3"
    },
    "language_info": {
      "name": "python"
    }
  },
  "cells": [
    {
      "cell_type": "markdown",
      "metadata": {
        "id": "U1qnL9wge7uy"
      },
      "source": [
        "#**CSCI 404 Final Project Information**\n",
        "\n",
        "Start on May 10, 2021. Due on June 9 (Wed), 2021 11:59pm on Canvas.  "
      ]
    },
    {
      "cell_type": "markdown",
      "metadata": {
        "id": "6Z4LR7XJf77s"
      },
      "source": [
        "##**Project Topics**\n",
        "\n",
        "Your first task is to pick a project topic. Pick an NLP application that you are passionate about or something you find interesting. One important aspect of designing your project is to identify one or several well-defined dataset that you can use for your project. If that data needs considerable pre-processing to suit your task, or if you intend to collect the needed data yourself, keep in mind that this is only one part of the expected project work, but can often take considerable time. We still expect a solid implementation and discussion of results, so pace your project accordingly. \n",
        "\n",
        "If you are still looking for some idea, below is a list of suggested project ideas. You are also welcome to drop by my office hours to talk about this.\n",
        "\n",
        "Many of the items below represent a topic rather than a specific project. Thus, many projects or variations of a single project are possible for each topic. The general idea is that the project will allow you to get a hands-on experience and allow you to learn/investigate a topic in far more detail than what would be possible from class discussions alone. Please note that the criteria for success in the project is not limited to an effective system (accurate, efficient etc.). For the purposes of this course, I care more about why you considered the investigated problem to be important, how you addressed the main issues/challenges, what you learnt etc. More detail on the project assessment can be found in the latter part of this document.\n",
        "\n",
        "The final project can be a group project. Indeed, by working as a group, you can attempt something larger and more interesting. However, the amount of work should be appropriately scaled to the size of the group, and you should include a brief statement on the responsibilities of different members of the team. Team members will normally get the same grade, but I reserve the right to differentiate in egregious cases. In general we would like group size of 2; if you are considering a bigger group, you need to talk to me. Solo projects are, of course, allowed.\n",
        "\n",
        "You are free (and, where appropriate, encouraged) to make use of existing code and systems as part of your project, but you should make sure their use is properly acknowledged, and make clear what additional value your project is adding.\n",
        "\n"
      ]
    },
    {
      "cell_type": "markdown",
      "metadata": {
        "id": "ynvuueaxY4_0"
      },
      "source": [
        "---\n",
        "# **Project Ideas**\n",
        "\n",
        "Here is a sample of ideas and projects that have been used in similar NLP courses and in the previous quarters. You should feel free to come up with your own. Use these as a helpful idea generator.\n",
        "* **Text Summarization**: Summarization is the task of producing a shorter version of one or several documents that preserves most of the input's meaning. This could potentially help people with reading disabilities.\n",
        " - Summarize Restaurant Reviews: take a list of reviews about a restaurant, and generate a single English summary for that restaurant. Use Yelp.com or some other website for the data.\n",
        " - Similar projects could be summarizing movie reviews, Amazon reviews, etc. \n",
        " - Others summmarization tasks could be scientific journals summarization, movie/game transcripts summarization, etc. \n",
        "\n",
        "* **Text Classification**\n",
        " - Text Complexity Classificaition: a sample project [report](http://cs229.stanford.edu/proj2018/report/185.pdf): \n",
        "   - classifying texts based on their difficulty levels. This task’s outcomes have the potential of enhancing education immensely. Texts of proper level of complexity can then be recommended to readers according to their reading ability, ultimately resulting in a more personalized educational experience. Generating\n",
        "or transforming text into simpler levels of complexity encourages more widespread knowledge, approachable\n",
        "from different fields and backgrounds.  \n",
        " - [Toxic Comments Classification](https://www.kaggle.com/c/jigsaw-toxic-comment-classification-challenge). Similar tasks: Cyberbullying detection in social media, abusive/offennsive language detection in social media.\n",
        " - [Fake News Challenge](http://www.fakenewschallenge.org) [github](https://github.com/FakeNewsChallenge)\n",
        " - [Spam / Click-bait detection](https://www.kaggle.com/therohk/examine-the-examiner)\n",
        " - Topic identification: Multi-label classification of printed media articles to topics. Dataset: MultiLabel Classification - [Reuters News Dataset](https://www.kaggle.com/narendrageek/reuters21578-multilabel-classification-news)\n",
        " - [Author Idenfication](https://www.kaggle.com/c/spooky-author-identification/data) \n",
        "\n",
        "\n",
        "* **Song Generator**: Use a corpus of actual song lyrics and automatically generate new songs, perhaps given an initial sentence from the user. Make it rhyme. Similar ideas could be poem generator, genre-based story generator, TV show script generator, news article generator, President inauguration speech generation, celebrity graduation generation, user-based tweet generator etc.\n",
        "  - Obama Speeches? For instance, you can create a bot which writes some [new speeches in Obama's style](https://medium.com/@samim/obama-rnn-machine-generated-political-speeches-c8abd18a2ea0)\n",
        "  - Narendra Modi bot saying \"doston\"? Start by scrapping off his Hindi speeches from his [personal website](https://www.narendramodi.in)\n",
        "  - Example Dataset: [English Transcript of Modi speeches](https://github.com/mgupta1410/pm_modi_speeches_repo)\n",
        "\n",
        "* **Information Extraction**: Choose a type of text format that typically contains useful information, but in written language. For instance, classifieds on craigslist. Build a system that extracts relevant information for products being offered for sale, such as the price, make, model, etc. Your system will read the sentences and extract the key pieces of information automatically. Similar projects could be information extraction from housing advertisement, customer reviews, clinical dictations, literatures, or any unstructured text of your interest. \n",
        " - Related task: Keyword/Concept identification： \n",
        "    - Identify keywords from millions of questions. Dataset: [StackOverflow question samples by Facebook](https://www.kaggle.com/c/facebook-recruiting-iii-keyword-extraction/data)\n",
        " - Good use cases of Information Extraction/Keyword extraction\n",
        "   - [Keyword Highlighting Improves Comprehension for People with Dyslexia](https://)\n",
        "   - [Evaluating the Benefit of Highlighting Key Words in Captions for People who are Deaf or Hard of Hearing](https://dl.acm.org/doi/abs/10.1145/3308561.3353781?casa_token=KXyaCoSUU7EAAAAA:WeLG_eGgWCOhWMVnNRBTwU6gwzVPqukmHnKDsbYOKUGDnIrNr5pCIIYOMjK_cGvEgm1s-qE7n0cU)\n",
        "\n",
        "* **Text Simplification**: Text Simplification is the task of reducing the complexity of the vocabulary and sentence structure of text while retaining its original meaning, with the goal of improving readability and understanding. Simplification has a variety of important societal applications, for example increasing accessibility for those with cognitive disabilities such as aphasia, dyslexia, and autism, or for non-native speakers and children with reading difficulties.\n",
        "  - [A System for the Simplification of Numerical Expressions at Different Levels\n",
        "of Understandability](https://www.aclweb.org/anthology/W13-1505.pdf) in [this workshop](https://www.aclweb.org/anthology/volumes/W13-15/)\n",
        "  - Other related tasks: \n",
        "   - [Quality Assessment for Text Simplification](http://qats2016.github.io/shared.html) (QATS)\n",
        "   - Wiki sentence simplification: [a sample project](https://web.stanford.edu/class/archive/cs/cs224n/cs224n.1194/reports/custom/15842809.pdf) from Stanford Deep NLP class\n",
        "  - You may also combine the text simplification and summarization tasks. That is to simplify the generated summary. \n",
        "  - [Some resources](http://nlpprogress.com/english/simplification.html)\n",
        "\n",
        "* **NLP and AI fairness**: \n",
        " - NLP Bias Against People with Disabilities (a medium [article](https://medium.com/fair-bytes/nlp-bias-against-people-with-disabilities-bf13bda66a8e))\n",
        "   - There exist undesirable biases against people with disabilities exist in NLP tasks and models, specifically toxicity prediction, sentiment analysis, and word embeddings. \n",
        "\n",
        "* **Tweet clustering and topic modeling**: apply clustering algorithms to tweets and do topic extraction from each cluster. Similar projects could be do clustering and topic modeling to the text in differnt domains.\n",
        " - For example, find out how covid-19 pandemic has been affecting people with disabilities. You would need to scrape tweets (with a certain time window, and with possible hashtags such as  `#accessibility`, `#disabled`, `#DisabiityDivide`, `#a11y`, `#pwd`, etc.   \n",
        "\n",
        "* **Sentiment Analysis**: \n",
        "Choose a domain of interest and apply sentiment analysis to it. This is a special case of text classification. \n",
        " - [Twitter sentiment analysis](https://www.kaggle.com/tanulsingh077/twitter-sentiment-extaction-analysis-eda-and-model)\n",
        "  - sentiment analysis on tweets related to a certain topic. For example, find out how covid-19 pandemic has been affecting people with disabilities. You would need to scrape tweets (with a certain time window, and with possible hashtags such as  `#accessibility`, `#disabled`, `#DisabiityDivide`, `#a11y`, `#pwd`, etc. \n",
        "* **Complex Word Identification**: extend your homeworkd code to produce an **innovative** idea (you cannot just use a basic machine learning method any more) for this task. You must build the system on the dataset of this [shared task](https://sites.google.com/view/cwisharedtask2018/). \n",
        "\n",
        "* **Sentence to Sentence semantic similarity**: Can you identify question pairs that have the same intent or meaning? Dataset: [Quora question pairs](https://www.kaggle.com/c/quora-question-pairs/data) with similar questions marked.\n",
        " - similar tasks: measure similarity between sentences and their paraphrases. measure similarity between sentences and their simplified versions. Plagiarism detection. [Datasets](https://opendata.stackexchange.com/questions/6094/paraphrase-data-sets), [PAWS](https://github.com/google-research-datasets/paws).\n",
        "\n",
        "* **Chatbot**: Build a system that can have a conversation with you. The user types messages, and your system replies based on the user's text. Many approaches here ... you could use a large twitter corpus and do language similarity. \n",
        " - References on more advanced implementations: [Chat-bot architecure](https://github.com/DataSenseiAryan/TS3000_TheChatBOT) based on Neural Machine Translation. Dataset: [Reddit Dataset](http://files.pushshift.io/reddit/comments/). [mlm/blog](https://machinelearningmastery.com/text-generation-lstm-recurrent-neural-networks-python-keras/).\n",
        "\n",
        "* **[Automatic Image Caption Generation](https://machinelearningmastery.com/how-to-caption-photos-with-deep-learning/)**: Automatic image captioning is the task where, given a photograph, the system must generate a caption that describes the contents of the image. (Warning: *This project will require knowledge such as image encoding, encoder-decoder architecure/deep neural network, which is out of the scope of our NLP class*.) \n",
        "---\n",
        "**Unlabeled Data** for Clustering, Language Models, etc.\n",
        "\n",
        " - [Web data](http://corpus.leeds.ac.uk/internet.html)\n",
        "\n",
        " - [BootCat](http://bootcat.dipintra.it/)\n",
        "\n",
        "---\n",
        "A list of **shared tasks** (including the dataset) is provided below. \n",
        "\n",
        "*   [Sebastian Ruder’s curated collection](https://github.com/sebastianruder/NLP-progress)\n",
        "*   [Kaggle NLP tasks](https://www.kaggle.com/datasets)\n",
        "\n",
        "**SemEval Shared Tasks**\n",
        "\n",
        "\n",
        "* [SemEval 2020](https://alt.qcri.org/semeval2020/index.php?id=tasks)\n",
        "* [SemEval 2019](https://alt.qcri.org/semeval2019/index.php?id=tasks)\n",
        "* [SemEval 2018](https://alt.qcri.org/semeval2018/index.php?id=tasks)\n",
        "* [SemEval 2017](https://alt.qcri.org/semeval2017/index.php?id=tasks)\n",
        "* [SemEval 2016](https://alt.qcri.org/semeval2016/index.php?id=tasks)\n",
        "*  you may work on a shared task in even earlier years. \n"
      ]
    },
    {
      "cell_type": "markdown",
      "metadata": {
        "id": "Exh-eg1Pp1Rw"
      },
      "source": [
        "**NOTE**: the honor concept applies. For the projects with code, you can adopt their topics, but not take their actual implementation ideas off-the-shelf and simply reproduce their system. You must make it your own."
      ]
    },
    {
      "cell_type": "markdown",
      "metadata": {
        "id": "Mbvc_ip-Sd1O"
      },
      "source": [
        "\n",
        "\n",
        "---\n",
        "# **Important Dates:**\n",
        "\n",
        "* 5/14 (**Friday noon 12:00pm**): Project Proposal Due. \n",
        "\n",
        "  * Must run by me before you finalize your project topic.\n",
        "* 5/24 Project Progress Report Due. \n",
        "* 6/1-6/4 Final Project Presentations \n",
        "* 6/9 Project report/code due\n"
      ]
    },
    {
      "cell_type": "markdown",
      "metadata": {
        "id": "sVds6ixTqT9T"
      },
      "source": [
        "# **Grading:**\n",
        "* Project Proposal (5%)\n",
        "* Progress Report (5%)\n",
        "* Final Presentation + demo (optional) (8%)\n",
        "* Final Report + code (15%)"
      ]
    },
    {
      "cell_type": "markdown",
      "metadata": {
        "id": "upLWu4ARsVDe"
      },
      "source": [
        "# **Project Proposal**\n",
        "One- or two- page document that addresses the following issues: \n",
        "1. What is the problem or task you propose to solve?\n",
        "2. What is interesting about this problem from an NLP perspective? \n",
        "3. What technical method or approach will you use?\n",
        "4. On what data will you run your system?\n",
        "5. How will you evaluate the performance of your system?\n",
        "6. What NLP-related difficulties and challenges do you anticipate?\n",
        "\n",
        "**Note**: \n",
        "\n",
        "\n",
        "1.  Must get approval by me before you finalize your project topic.\n",
        "2.  Must cite and briefly describe at least two pieces of relevant existing work.\n",
        "\n"
      ]
    },
    {
      "cell_type": "markdown",
      "metadata": {
        "id": "900basmHsoQP"
      },
      "source": [
        "# **Project Progress Report**\n",
        "\n",
        "Report the progress/achievement of your project so far (fit on 1-2 pages). On my judgement 25-30% of the work should get done. \n",
        "\n",
        "Key information. Your PDF should have the following information in :\n",
        "1. Title: The title of your project (you can change this later).\n",
        "2. Team member names: List the names and @wwu.edu email addresses of all of your team members.\n",
        "3. About the progress of the project:\n",
        " - Have you set up the data? How have you set up the data? links to the data and description of the data. \n",
        " - What baseline model have you set up? Or are you planning to set up a baseline? Describe the baseline in enough detail. \n",
        " - What's the core technique are you using? Did you find out any other techniques that can be potentitally used? Describe the baseline in enough detail. \n",
        " - Will your model be implemented from scratch? Or which part of your model will be implemented from scratch? Describe the baseline in enough detail. \n",
        " - Is your model based on an existing codebase? If yes, give the link(s) of the codebase. \n",
        " - Plan of work for the next two weeks. Describe the baseline in enough detail. \n",
        " - Justify why do you think you've gotten 25-30% done. Describe the baseline in enough detail. \n",
        " - Roles: if this is a teamwork, who did which part. Describe the baseline in enough detail. \n",
        "\n",
        " \n",
        "In the report, you need to demonstrate and communicate well that you have obtained a better understanding of the problem/tasks/methods/metrics/research context. \n",
        "\n"
      ]
    },
    {
      "cell_type": "markdown",
      "metadata": {
        "id": "30Qyvt3qqJLk"
      },
      "source": [
        "# **Final Project Presentation: (10 minutes including questions)**\n",
        "\n",
        "- Problem description, motivation, societal/ethical implications of the task\n",
        "- Proposed solution\n",
        "- Related work knowledge (the task, the method)\n",
        "- Description of implementation: data set (training data, test data, development set if any), feature set, toolkit, experimental setup\n",
        "- Discussions of your experimental results\n",
        "- Critical analysis of your work (potential improvement and future work)\n",
        "\n",
        "The above is the basic points you have to cover in your presentation. Please feel free to cover more, and do some demo if helps.\n",
        "\n",
        "**All the teams are required to participate in and observe all the presentations. Participation in peer-grading will be a part of the assessment of your final presentations.  [This](https://docs.google.com/document/d/1_Lm3Rp7Eq-qSuLMRl86VNzJJrAEybTKdudEg4LxLroA/edit?usp=sharing) is the peer-grading sheet. Please make a copy of your own and submit it on Canvas by the end of each presentation day.** "
      ]
    },
    {
      "cell_type": "markdown",
      "metadata": {
        "id": "Xi7XFWgmqP8q"
      },
      "source": [
        "# **Final Submission**\n",
        "\n",
        "Your final report should be between 4-5 pages (including references) using the **following template**: \n",
        "\n",
        "- Style sheets (Latex, Word) are available here: http://acl2020.org/downloads/acl2020-templates.zip\n",
        "\n",
        "- And the Overleaf template is also available here: https://www.overleaf.com/latex/templates/acl-2020-proceedings-template/zsrkcwjptpcd\n",
        "\n",
        "You can use either latex or word document templates. \n",
        "\n",
        "\n",
        "---\n",
        "There are **three things** you need to turn in:\n",
        "\n",
        "- Final Project Writeup: A PDF file of your final report. Submitted to Canvas.\n",
        "\n",
        "- Final Project Supplementary Materials: A zip file of your supplementary materials. You are required to include all the code for your project in the supplementary materials. Submitted to [here](https://drive.google.com/drive/folders/1ruFh_Nhm4EE2t_tjvpuQpA-hrCi5IIzj?usp=sharing).\n",
        "- Final Project workload split-up and/or any additional information. Submit it as a comment along with the report on Canvas. \n",
        "- Your team only needs to submit each of these things once, but make sure that the submission tags all members of the team.\n",
        "\n",
        "- ***A quick reminder: Have you submitted your final presentation slides to [this folder](https://drive.google.com/drive/folders/1VrgajSvXbLlwpLazynpCLQc3o-nZq0Mx?usp=sharing) and submited your peer assessment sheet on Canvas? Please do so if not yet.***\n",
        "---\n",
        "**Report:**\n",
        "\n",
        "The following is a suggested structure for the report:\n",
        "- Title, Authors\n",
        "- Abstract: It should not be more than 300 words.\n",
        "- Introduction\n",
        " - Problem description\n",
        " - What are the societal or ethical implications of your application? What categories of end-users this application may benefit?\n",
        " - Your overall approach to the problem.\n",
        "- Related Work: Relevant literature for your project.\n",
        "- Approach: This section details your approach to the problem. You should be specific. This section is optional if you would like to include it in the next section. \n",
        "- Experiments: In this section, you describe:\n",
        "  - The dataset(s) you used (links to the data) and data pre-processing.\n",
        "  - How you ran your experiments \n",
        "  - The evaluation metric(s) you used\n",
        "  - Others should be abel to replicate your experiment through reading your description/explanation here. \n",
        "- Results and Discussion:\n",
        " - It's very important to show both quantitative evaluation (show numbers, figures, tables etc. relating to your evaluation metric(s)) and qualitative evaluation (show example results, etc.).\n",
        "  \n",
        "- Conclusion and Future Work (if you had more time, what would you do next?)\n",
        "- References: Include references to all literature that informed your project work. This is absolutely necessary.\n",
        "\n",
        "You can of course have other sections. \n",
        "\n",
        "Please make sure you address these issues\n",
        "- You need to adhere to the format described above\n",
        "- You need to provide data description\n",
        "- You need to describe the toolkit and data pre-processing you did (if any)\n",
        "- You need to describe the feature set (if any)\n",
        "- You need to briefly describe the theory behind algorithm you used\n",
        "- You need to present at least 1 table of results\n",
        "- Your need to discuss the results and provide critical analysis of your work (Such as: Have you thought about ways to improve the model? How do you think the model accuracy? etc.) \n",
        "\n",
        "Your final paper should be of sufficient length. Two pages is not sufficient. \n",
        "\n",
        "\n",
        "---\n",
        "\n",
        "\n",
        "**Supplementary Material**\n",
        "\n",
        "Examples of things to include in your supplementary material:\n",
        "- Source code (required)\n",
        "- Cool videos, interactive visualizations, demos, etc. (optional)\n",
        "\n",
        "Examples of things not to include in your supplementary material:\n",
        "- The source code for an entire submodule (e.g. nltk/SpaCy submodules, CoreNLP)\n",
        "- Any code that is larger than 1MB\n",
        "- Model checkpoints\n",
        "- A computer virus\n",
        "\n",
        "\n",
        "---\n",
        "\n",
        "\n",
        "**Honor Code**\n",
        "\n",
        "You may use any existing code, libraries, etc. and consult and any papers, books, online references, etc. for your project. However, you must cite your sources in your writeup and clearly indicate which parts of the project are your contribution and which parts were implemented by others. Under no circumstances may you look at another CSCI 404 group’s code or incorporate their code into your project.\n",
        "\n",
        "If you are doing a similar project for another class, you must make this clear and write down the exact portion of the project that is being counted for CSCI 404."
      ]
    }
  ]
}